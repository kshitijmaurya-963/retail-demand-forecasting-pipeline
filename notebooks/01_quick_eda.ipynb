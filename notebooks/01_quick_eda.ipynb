{
 "cells": [
  {
   "cell_type": "markdown",
   "metadata": {},
   "source": [
    "# Quick EDA (sanity check)\n",
    "Just enough to ensure the data looks reasonable."
   ]
  },
  {
   "cell_type": "code",
   "execution_count": null,
   "metadata": {},
   "outputs": [],
   "source": [
    "import pandas as pd\n",
    "import matplotlib.pyplot as plt\n",
    "df = pd.read_csv('../data/raw/sales.csv', parse_dates=['date'])\n",
    "print(df.head())\n",
    "print(df.shape)\n",
    "daily = df.groupby('date', as_index=False)['sales'].sum()\n",
    "plt.figure()\n",
    "plt.plot(daily['date'], daily['sales'])\n",
    "plt.title('Total Daily Sales (All Stores/SKUs)')\n",
    "plt.show()\n"
   ]
  },
  {
   "cell_type": "code",
   "execution_count": null,
   "id": "2651203d",
   "metadata": {},
   "outputs": [],
   "source": []
  }
 ],
 "metadata": {
  "kernelspec": {
   "display_name": "Python 3",
   "language": "python",
   "name": "python3"
  },
  "language_info": {
   "name": "python",
   "version": "3.13.7"
  }
 },
 "nbformat": 4,
 "nbformat_minor": 5
}
